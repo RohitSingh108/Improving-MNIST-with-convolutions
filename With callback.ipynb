{
 "cells": [
  {
   "cell_type": "code",
   "execution_count": 1,
   "metadata": {},
   "outputs": [],
   "source": [
    "import tensorflow as tf"
   ]
  },
  {
   "cell_type": "code",
   "execution_count": 2,
   "metadata": {},
   "outputs": [],
   "source": [
    "def train_mnist_conv():\n",
    "\n",
    "    class myCallback(tf.keras.callbacks.Callback):\n",
    "        def on_epoch_end(self, epoch, logs={}):\n",
    "            if(logs.get('acc')>0.998):\n",
    "                print(\"\\nReached 99.8% accuracy so cancelling training!\")\n",
    "                self.model.stop_training = True\n",
    "\n",
    "    mnist = tf.keras.datasets.mnist\n",
    "    (training_images, training_labels), (test_images, test_labels) = mnist.load_data()\n",
    "\n",
    "    callbacks = myCallback()\n",
    "    \n",
    "    training_images=training_images.reshape(60000, 28, 28, 1)\n",
    "    training_images=training_images / 255.0\n",
    "    test_images = test_images.reshape(10000, 28, 28, 1)\n",
    "    test_images=test_images/255.0\n",
    "\n",
    "\n",
    "    model = tf.keras.models.Sequential([\n",
    "   \n",
    "            tf.keras.layers.Conv2D(64, (3,3), activation='relu', input_shape=(28, 28, 1)),\n",
    "            tf.keras.layers.MaxPooling2D(2, 2),\n",
    "            tf.keras.layers.Conv2D(64, (3,3), activation='relu'),\n",
    "            tf.keras.layers.MaxPooling2D(2,2),\n",
    "            tf.keras.layers.Flatten(),\n",
    "            tf.keras.layers.Dense(128, activation='relu'),\n",
    "            tf.keras.layers.Dense(10, activation='softmax')\n",
    "\n",
    "    ])\n",
    "\n",
    "    model.compile(optimizer='adam', loss='sparse_categorical_crossentropy', metrics=['accuracy'])\n",
    "\n",
    "    history = model.fit(training_images, training_labels, epochs=20, callbacks=[callbacks])\n",
    "  \n",
    "    return history.epoch, history.history['acc'][-1]"
   ]
  },
  {
   "cell_type": "code",
   "execution_count": 3,
   "metadata": {},
   "outputs": [
    {
     "name": "stdout",
     "output_type": "stream",
     "text": [
      "Epoch 1/20\n",
      "60000/60000 [==============================] - 118s 2ms/step - loss: 0.1238 - acc: 0.9617\n",
      "Epoch 2/20\n",
      "60000/60000 [==============================] - 117s 2ms/step - loss: 0.0414 - acc: 0.9869\n",
      "Epoch 3/20\n",
      "60000/60000 [==============================] - 117s 2ms/step - loss: 0.0284 - acc: 0.9910\n",
      "Epoch 4/20\n",
      "60000/60000 [==============================] - 118s 2ms/step - loss: 0.0198 - acc: 0.9938\n",
      "Epoch 5/20\n",
      "60000/60000 [==============================] - 117s 2ms/step - loss: 0.0149 - acc: 0.9955\n",
      "Epoch 6/20\n",
      "60000/60000 [==============================] - 116s 2ms/step - loss: 0.0113 - acc: 0.9965\n",
      "Epoch 7/20\n",
      "60000/60000 [==============================] - 116s 2ms/step - loss: 0.0088 - acc: 0.9972\n",
      "Epoch 8/20\n",
      "60000/60000 [==============================] - 116s 2ms/step - loss: 0.0090 - acc: 0.9971\n",
      "Epoch 9/20\n",
      "60000/60000 [==============================] - 118s 2ms/step - loss: 0.0075 - acc: 0.9976\n",
      "Epoch 10/20\n",
      "59968/60000 [============================>.] - ETA: 0s - loss: 0.0054 - acc: 0.9984\n",
      "Reached 99.8% accuracy so cancelling training!\n",
      "60000/60000 [==============================] - 119s 2ms/step - loss: 0.0054 - acc: 0.9984\n"
     ]
    }
   ],
   "source": [
    "_, _ = train_mnist_conv()"
   ]
  },
  {
   "cell_type": "code",
   "execution_count": null,
   "metadata": {},
   "outputs": [],
   "source": []
  }
 ],
 "metadata": {
  "kernelspec": {
   "display_name": "Python 3",
   "language": "python",
   "name": "python3"
  },
  "language_info": {
   "codemirror_mode": {
    "name": "ipython",
    "version": 3
   },
   "file_extension": ".py",
   "mimetype": "text/x-python",
   "name": "python",
   "nbconvert_exporter": "python",
   "pygments_lexer": "ipython3",
   "version": "3.6.8"
  }
 },
 "nbformat": 4,
 "nbformat_minor": 2
}
